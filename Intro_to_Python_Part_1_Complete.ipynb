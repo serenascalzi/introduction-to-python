{
  "nbformat": 4,
  "nbformat_minor": 0,
  "metadata": {
    "colab": {
      "provenance": [],
      "include_colab_link": true
    },
    "kernelspec": {
      "name": "python3",
      "display_name": "Python 3"
    },
    "language_info": {
      "name": "python"
    }
  },
  "cells": [
    {
      "cell_type": "markdown",
      "metadata": {
        "id": "view-in-github",
        "colab_type": "text"
      },
      "source": [
        "<a href=\"https://colab.research.google.com/github/serenascalzi/introduction-to-python/blob/main/Intro_to_Python_Part_1_Complete.ipynb\" target=\"_parent\"><img src=\"https://colab.research.google.com/assets/colab-badge.svg\" alt=\"Open In Colab\"/></a>"
      ]
    },
    {
      "cell_type": "markdown",
      "source": [
        "![download.png](data:image/png;base64,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)\n",
        "# Introduction to Python, Part 1\n",
        "\n",
        "Instructor: </br>\n",
        "Genevieve Milliken, MA, MSLIS </br>\n",
        "Data Librarian, UNLV Libraries</br>\n",
        "[genevieve.milliken@unlv.edu](mailto:genevieve.milliken@unlv.edu)</br>"
      ],
      "metadata": {
        "id": "h3IeUZlhxCaf"
      }
    },
    {
      "cell_type": "markdown",
      "source": [
        "# Why Python?\n",
        "Python is an incredibly efficient programming language and allows you to do some impressive things with only a few lines of code! Thanks to Python’s syntax, we can write “clean” code that is easier to debug and allows for overall readability. Further, code written in Python is easily extendable and reusable, allowing you and others to build upon existing code. Python is used in a variety of contexts from game design to data analysis. It is also used a lot in academic research, especially in the sciences, and can be used for data collection (e.g., web scraping and APIs), data cleaning, data analysis, and visualization."
      ],
      "metadata": {
        "id": "PFHd7i1axJj-"
      }
    },
    {
      "cell_type": "markdown",
      "source": [
        "## Why Python for Scientific Computing?\n",
        "\n",
        "Since it is relatively easy to use compared to other programming languages, Python has been widely adopted by researchers who don't want to spend a whole lot of time learning computer programming before they can start their actual project. Additionally, over the years an entire ecosystem of helper libraries (or \"packages\") has been developed to make scientific tasks even easier in Python.\n",
        "\n",
        "You may have already heard of some of these libraries, such as [PANDAS](https://pandas.pydata.org/) (which contains functions for data analysis), [SciPy](https://www.scipy.org/) (science and engineering), [NumPy](https://www.numpy.org/) (multi-dimensional data structures and high-level mathematics), [BioPython](https://biopython.org/) (biological computing), etc. There is some overlap between these libraries, and typically you will combine features from several different libraries to accomplish your research tasks."
      ],
      "metadata": {
        "id": "RviuxbF8xTiq"
      }
    },
    {
      "cell_type": "markdown",
      "source": [
        "## Python Environment\n",
        "\n",
        "If Python is installed on your computer, you can interact with it on the command line, sometimes referred to as the \"terminal\", \"console\", \"Python shell\" or \"REPL\" (Read, Eval, Print and Loop). More often, people use a text editor, such as [Sublime](https://www.sublimetext.com/), or more sophisticated IDEs such as [PyCharm](https://www.jetbrains.com/pycharm/) or [Visual Studio Code](https://code.visualstudio.com/) to write and run code. With a lot of setups available, you have many options to choose from!\n",
        "\n",
        "Today, we are using a browser-based CoLab from Google which allows users to selectively run code cells and add rich text elements (paragraph, equations, figures, notes, links) in Markdown. With code, notes, instructions, and comments all in one place, it serves as a powerful resource and learning tool for you!\n",
        "\n"
      ],
      "metadata": {
        "id": "bzPCnI6qxiHE"
      }
    },
    {
      "cell_type": "markdown",
      "source": [
        "## Commenting Code\n",
        "Any text after the # symbol is a comment for humans, and will be ignored by Python. The comments used today are to help you learn, but if you are writing code, they are added to add clarity to your code and are very helpful to collaborators, others, and your future self. Some reasons you should comment your code include:\n",
        "\n",
        "* Makes the code easily understandable by other programmers\n",
        "* The code becomes self-explanatory\n",
        "* Helps remember why we used a specific command, method, or\n",
        "function in the code\n",
        "* Ignore some part of the code while testing and trouble shooting\n",
        "\n",
        "**Comments should be consise and describe the over all task.**"
      ],
      "metadata": {
        "id": "PkGLAYZLxrs7"
      }
    },
    {
      "cell_type": "markdown",
      "source": [
        "Try running each of the code blocks below using **`Shift-Enter` (Windows) or `Command-Return`** (Mac). Any text after the # symbol is a comment for humans, and will be ignored by Python. You can also try editing the code blocks and seeing the new results."
      ],
      "metadata": {
        "id": "kk-4I0hpo7LB"
      }
    },
    {
      "cell_type": "code",
      "source": [
        " # addition\n",
        "\n",
        "5 + 7\n"
      ],
      "metadata": {
        "id": "W2kZ8OnzVSx9",
        "colab": {
          "base_uri": "https://localhost:8080/"
        },
        "outputId": "0f97ca88-f392-4ae6-e3fa-b379376e99dc"
      },
      "execution_count": null,
      "outputs": [
        {
          "output_type": "execute_result",
          "data": {
            "text/plain": [
              "12"
            ]
          },
          "metadata": {},
          "execution_count": 1
        }
      ]
    },
    {
      "cell_type": "code",
      "execution_count": null,
      "metadata": {
        "id": "InoVcAmumVcJ",
        "colab": {
          "base_uri": "https://localhost:8080/"
        },
        "outputId": "abc12490-b517-47a0-e005-389c54e453a1"
      },
      "outputs": [
        {
          "output_type": "execute_result",
          "data": {
            "text/plain": [
              "20"
            ]
          },
          "metadata": {},
          "execution_count": 2
        }
      ],
      "source": [
        "# multiplication\n",
        "\n",
        "5 * 4"
      ]
    },
    {
      "cell_type": "code",
      "source": [
        "string = \"Genevieve'"
      ],
      "metadata": {
        "id": "EoCQxjSFGxJv"
      },
      "execution_count": null,
      "outputs": []
    },
    {
      "cell_type": "code",
      "execution_count": null,
      "metadata": {
        "id": "f6JX7dq9mVcK",
        "colab": {
          "base_uri": "https://localhost:8080/"
        },
        "outputId": "1e8b8932-6d24-4da4-f3c3-08c69f37c50f"
      },
      "outputs": [
        {
          "output_type": "execute_result",
          "data": {
            "text/plain": [
              "0.7142857142857143"
            ]
          },
          "metadata": {},
          "execution_count": 3
        }
      ],
      "source": [
        "# division\n",
        "\n",
        "5 / 7"
      ]
    },
    {
      "cell_type": "code",
      "execution_count": null,
      "metadata": {
        "scrolled": true,
        "id": "BMdgG1gsmVcM",
        "colab": {
          "base_uri": "https://localhost:8080/"
        },
        "outputId": "0cb7db99-5ada-4980-8832-bfb80c08b9ce"
      },
      "outputs": [
        {
          "output_type": "execute_result",
          "data": {
            "text/plain": [
              "25"
            ]
          },
          "metadata": {},
          "execution_count": 4
        }
      ],
      "source": [
        "# exponentiation\n",
        "\n",
        "5 ** 2"
      ]
    },
    {
      "cell_type": "code",
      "execution_count": null,
      "metadata": {
        "id": "QLvXS340mVcM",
        "colab": {
          "base_uri": "https://localhost:8080/"
        },
        "outputId": "5e3d3b01-66fa-4b4e-feef-8c6be6684e81"
      },
      "outputs": [
        {
          "output_type": "execute_result",
          "data": {
            "text/plain": [
              "True"
            ]
          },
          "metadata": {},
          "execution_count": 5
        }
      ],
      "source": [
        "# boolean: \"True\" and \"False\" are reserved keywords in Python, meaning you can't use them yourself as e.g. variable names\n",
        "\n",
        "True"
      ]
    },
    {
      "cell_type": "code",
      "execution_count": null,
      "metadata": {
        "id": "Cjc1D99gmVcN",
        "colab": {
          "base_uri": "https://localhost:8080/"
        },
        "outputId": "5afd0d7e-7137-4e43-867d-adbf29f1ba3d"
      },
      "outputs": [
        {
          "output_type": "execute_result",
          "data": {
            "text/plain": [
              "False"
            ]
          },
          "metadata": {},
          "execution_count": 7
        }
      ],
      "source": [
        "# negating a boolean\n",
        "\n",
        "False\n",
        "\n",
        "not True"
      ]
    },
    {
      "cell_type": "code",
      "execution_count": null,
      "metadata": {
        "id": "rPL6SanomVcN",
        "colab": {
          "base_uri": "https://localhost:8080/",
          "height": 141
        },
        "outputId": "edadda5f-b15d-406e-d230-e928d28b6bdc"
      },
      "outputs": [
        {
          "output_type": "error",
          "ename": "NameError",
          "evalue": "name 'true' is not defined",
          "traceback": [
            "\u001b[0;31m---------------------------------------------------------------------------\u001b[0m",
            "\u001b[0;31mNameError\u001b[0m                                 Traceback (most recent call last)",
            "\u001b[0;32m/tmp/ipython-input-965534796.py\u001b[0m in \u001b[0;36m<cell line: 0>\u001b[0;34m()\u001b[0m\n\u001b[0;32m----> 1\u001b[0;31m \u001b[0;32mnot\u001b[0m \u001b[0mtrue\u001b[0m\u001b[0;34m\u001b[0m\u001b[0;34m\u001b[0m\u001b[0m\n\u001b[0m",
            "\u001b[0;31mNameError\u001b[0m: name 'true' is not defined"
          ]
        }
      ],
      "source": [
        "# not true # booleans are case-sensitive, so this will throw an error\n",
        "\n",
        "not true\n"
      ]
    },
    {
      "cell_type": "markdown",
      "source": [
        "# Markdown\n",
        "\n",
        "Markdown is a lightweight markup language that allows text-to-HTML. The use of markdown syntax in programming notebooks allows you to add both the plain text, notations, and code in one document so that you can easily manage your workflows."
      ],
      "metadata": {
        "id": "Flb91_6GybfP"
      }
    },
    {
      "cell_type": "markdown",
      "source": [
        "## I can add Headings\n",
        "### I can add Headings\n",
        "#### I can add Headings\n",
        "##### I can add Headings\n"
      ],
      "metadata": {
        "id": "r0v_5xs1yf_R"
      }
    },
    {
      "cell_type": "markdown",
      "source": [
        "Bulleted Lists:\n",
        "*   Item 1\n",
        "*   Item 2\n",
        "\n",
        "Numbered Lists:\n",
        "\n",
        "1.   List item\n",
        "2.   List item"
      ],
      "metadata": {
        "id": "7SUPQ0zUylPw"
      }
    },
    {
      "cell_type": "markdown",
      "source": [
        "Tables\n",
        "\n",
        "| This | is   |\n",
        "|------|------|\n",
        "|   a  | table|\n",
        "\n",
        "<br>\n",
        "\n",
        "Column | Column\n",
        "------ | ------\n",
        "\\| Cell \\|| \\| Cell \\|"
      ],
      "metadata": {
        "id": "O2f8ejXwypeN"
      }
    },
    {
      "cell_type": "markdown",
      "source": [
        "Python Syntax Highlighting in Markdown - great for example text:\n",
        "\n",
        "```python\n",
        "record = {\n",
        "  \"firstName\": \"John\",\n",
        "  \"lastName\": \"Smith\",\n",
        "  \"age\": 25\n",
        "}\n",
        "```"
      ],
      "metadata": {
        "id": "HLViiKWsy1WT"
      }
    },
    {
      "cell_type": "markdown",
      "source": [
        "Adding hyperlinks in Markdown :\n",
        "* [Markdown docs - Basic Syntax](https://www.markdownguide.org/basic-syntax/)\n",
        "* [Ultimate Guide for Markdown in Jupyter Notebooks](https://medium.com/analytics-vidhya/the-ultimate-markdown-guide-for-jupyter-notebook-d5e5abf728fd)\n",
        "\n"
      ],
      "metadata": {
        "id": "lmlFCMqjy9tF"
      }
    },
    {
      "cell_type": "markdown",
      "source": [
        "# What does this lesson cover?"
      ],
      "metadata": {
        "id": "OVCX_qgcqDOO"
      }
    },
    {
      "cell_type": "markdown",
      "source": [
        "**Day 1**\n",
        "* Basic Data Types\n",
        "* Variables\n",
        "* Lists\n",
        "\n",
        "**Day 2**\n",
        "* Dictionaries\n",
        "* Loops\n",
        "* Conditional Statements\n",
        "* Functions\n",
        "\n"
      ],
      "metadata": {
        "id": "pmZ7WCjzsd3u"
      }
    },
    {
      "cell_type": "markdown",
      "source": [
        "# A Note About This Class\n",
        "\n",
        "Programming is a huge topic, and you can spend an entire lifetime learning and improving. So it's impossible for me to teach you everything you need to know in this one class. Therefore, I don't want you to get too bogged down in the details. It's OK if you leave this class without knowing the proper command for reversing a Python list. You may never have to use that command, and if you ever do, there is no shame in Googling it.\n",
        "\n",
        "It's much more important that you leave this class knowing how and where to find help when you need it. In fact, learning to search the internet for help is a very important part of programming. No matter what you're trying to do with Python, someone else has already done it before, and has probably posted about it online to help others. You just need to Google the right words to find it!\n",
        "\n",
        "Basically, the best way to learn Python is to find a problem that interests you, and that you need Python to solve. Once you are working towards a specific goal like this, the problems you face will become much smaller, and you'll know what questions you need to ask to accomplish your goal. For example, instead of your task being \"Learn Python\" (which can take an entire lifetime) your task will be, \"how to get standard deviation of all numbers in a list in Python.\" That is much easier!"
      ],
      "metadata": {
        "id": "aYYAAPqVs9Kh"
      }
    },
    {
      "cell_type": "markdown",
      "source": [
        "# Let's Get Started!"
      ],
      "metadata": {
        "id": "2PgsFklrtIco"
      }
    },
    {
      "cell_type": "markdown",
      "source": [
        "# 1. Data Types\n",
        "\n",
        "Programming languages support various data types. While there are some variations, most languages support the [following types](https://www.w3schools.com/python/python_datatypes.asp):\n",
        "\n",
        "| Type      | Name |\n",
        "| ----------- | ----------- |\n",
        "| Text      | str       |\n",
        "|Numeric  | Int, float, complex        |\n",
        "| Sequence   | List, tuple, range        |\n",
        "| Mapping   | dict       |\n",
        "| Sets  | Set, frozenset        |\n",
        "| Boolean   | bool        |\n",
        "| Binary   | Bytes, bytearray, memoryview |\n",
        "| None   | None        |\n",
        "\n",
        "The types we will encounter most these workshops are: **str, int, float, list, dict, and bool**."
      ],
      "metadata": {
        "id": "izz_plQt0D5L"
      }
    },
    {
      "cell_type": "markdown",
      "source": [
        "\n",
        "### Primitive Data Types in Python\n",
        "+ Numbers\n",
        "  + int - integers which are whole numbers such as **3**\n",
        "  + float - floats which are numbers that have a decimal place such as **-3.4**\n",
        "+ Logical\n",
        "  + bool - booleans are either **True** or **False**\n",
        "+ Text Sequence\n",
        "  + str - strings are a sequence of characters such as **'bananas'**\n",
        "\n",
        "+ None type\n",
        "  + <code>None</code> represents a null value or no value at all. It is not defined as 0 or any other numeric value. It is not the same as  false, or the empty string. It returns nothing.\n",
        "  + None is not the same as 0, False, or an empty string. None is a data type of its own (NoneType) and only None can be None.\n",
        "  + [Understanding None](https://realpython.com/null-in-python/#:~:text=Python%20uses%20the%20keyword%20None,and%20a%20first%2Dclass%20citizen!)\n",
        "\n",
        "### More complex Types\n",
        "+ Sequence Types\n",
        "  + list - mutuable sequence of objects of any type []\n",
        "  + tuple - imumutable objects ()\n",
        "  + range - range of integers or whole numbers\n",
        "  + ...\n",
        "+ Sets - no duplications\n",
        "+ Dictionaries - key value pairs\n",
        "+ Functions - custom expression\n",
        "+ Classes/User Defined Types - list of data set allocation attibutes and their values\n",
        "+ ..."
      ],
      "metadata": {
        "id": "mzKjbnbvNluZ"
      }
    },
    {
      "cell_type": "code",
      "source": [
        "# import math and get length of diagonal\n",
        "\n",
        "import math\n",
        "\n",
        "# length of a diagnonal\n",
        "\n",
        "l = 4\n",
        "w = 10\n",
        "\n",
        "d = math.sqrt(l**2 + w**2)\n",
        "\n",
        "print(d)\n"
      ],
      "metadata": {
        "id": "NFUl5HOhOGtj",
        "colab": {
          "base_uri": "https://localhost:8080/"
        },
        "outputId": "97885a8c-a63e-4bdf-87d8-768d6e1f1abc"
      },
      "execution_count": null,
      "outputs": [
        {
          "output_type": "stream",
          "name": "stdout",
          "text": [
            "10.770329614269007\n"
          ]
        }
      ]
    },
    {
      "cell_type": "code",
      "source": [
        "# using type\n",
        "\n",
        "type(d)\n"
      ],
      "metadata": {
        "id": "hD4Vz8gjOI1T",
        "colab": {
          "base_uri": "https://localhost:8080/"
        },
        "outputId": "4363883c-67f7-4d7b-dc2d-cae30cb32557"
      },
      "execution_count": null,
      "outputs": [
        {
          "output_type": "execute_result",
          "data": {
            "text/plain": [
              "float"
            ]
          },
          "metadata": {},
          "execution_count": 12
        }
      ]
    },
    {
      "cell_type": "markdown",
      "source": [
        "# Using Type\n",
        "Parenthesis generally indicate that the previous word is a function (more on this later). For now just know that functions take input values in the parenthesis and will return some value.\n",
        "\n",
        "The print function will output what ever arguments are passed to it to the terminal or notebook. Different variables can be passed to the print function by separating them with a comma.\n",
        "\n",
        "**type** is another function, it will return the data type of the argument passed in the parenthesis."
      ],
      "metadata": {
        "id": "u27McG5YOVs6"
      }
    },
    {
      "cell_type": "markdown",
      "source": [
        "integer: 3 </br>\n",
        "float: 2.5 </br>\n",
        "string: \"apple\" </br>\n",
        "bool: True </br>\n",
        "string: '3' </br>\n",
        "string: '2.5' </br>\n",
        "\n",
        "\n"
      ],
      "metadata": {
        "id": "PN-rSjJBOi1R"
      }
    },
    {
      "cell_type": "code",
      "source": [
        "# find type and print each\n",
        "# two functions here - First we are getting the type, and second a print statement\n",
        "# start with the interior function\n",
        "\n",
        "print(type(3), 3)\n",
        "print(type(2.5), 2.5)\n",
        "print(type('apple'), 'apple')\n",
        "print(type(True), True)\n",
        "print(type('3'), '3')\n",
        "print(type('2.5'), '2.5')\n",
        "\n",
        "\n",
        "# only outputs the last one, so lets add some print statements\n",
        "\n",
        "\n",
        "\n"
      ],
      "metadata": {
        "id": "xO3TRiijOhyI",
        "colab": {
          "base_uri": "https://localhost:8080/"
        },
        "outputId": "801c24df-4e4d-464c-d2c5-ef94eae3ce0f"
      },
      "execution_count": null,
      "outputs": [
        {
          "output_type": "stream",
          "name": "stdout",
          "text": [
            "<class 'int'> 3\n",
            "<class 'float'> 2.5\n",
            "<class 'str'> apple\n",
            "<class 'bool'> True\n",
            "<class 'str'> 3\n",
            "<class 'str'> 2.5\n"
          ]
        }
      ]
    },
    {
      "cell_type": "markdown",
      "source": [
        "------------------\n",
        "# Operations\n",
        "\n",
        "Each datatype has a number of operations that are valid.\n",
        "\n",
        "Here are some commmon operators, more will be covered as we progress in the course.\n",
        "\n",
        "## Mathematical Operators (For numeric values)\n",
        "+ **( )** - Parentheses are used to define the order of operation\n",
        "+ **\\*\\*** - Exponent : x<sup>n</sup> = x\\*\\*n\n",
        "+ **\\*** - Multiplacation : 5 \\* 3\n",
        "+ **/** - Division : 15 / 3\n",
        "+ **//** - Floor/Integer Division (rounds down to the nearest int) : 7 // 3 = 2\n",
        "+ **+** - Addition : 5 + 3\n",
        "+ **\\-** - Subtraction : 3 - 5\n",
        "+ **%** - Modulus (returns the remainder of a division) : 16 % 3"
      ],
      "metadata": {
        "id": "q8rzHLtQPD1B"
      }
    },
    {
      "cell_type": "markdown",
      "source": [
        "Parenthesis can help make statements less ambigous, this is a good thing"
      ],
      "metadata": {
        "id": "XmEnn9tkPRiO"
      }
    },
    {
      "cell_type": "markdown",
      "source": [
        "PEMDAS <br>\n",
        "![pemdas.png](https://www.onlinemathlearning.com/image-files/pemdas.png)\n"
      ],
      "metadata": {
        "id": "ygA3C-F4LPH0"
      }
    },
    {
      "cell_type": "code",
      "source": [
        "print ('1 + 2 = ', 1 + 2) # Addition\n",
        "print ('2 - 1 = ', 2 - 1) # Subtraction\n",
        "print ('2 * 5 = ', 2 * 5) # Multiplication\n",
        "print ('6 / 2 = ', 6 / 2) # Division\n",
        "print ('7 // 2 = ', 7 // 2.0) # Floor/Integer division\n",
        "print ('2 ** 3 = ', 2 ** 3) # Exponent\n",
        "print ('16 % 3 = ', 16 % 3) # Division\n",
        "print ('(1 + 3) * (4 + 5) = ', (1 + 3) * (4 + 5)) # parenthesis\n",
        "print ('1 + 3 * 4 + 5 = ', 1 + 3 * 4 + 5) # PEMDAS"
      ],
      "metadata": {
        "id": "E1K5UzqHPDLz",
        "colab": {
          "base_uri": "https://localhost:8080/"
        },
        "outputId": "73be37d5-1a8c-4eff-bf4b-d535585f54d5"
      },
      "execution_count": null,
      "outputs": [
        {
          "output_type": "stream",
          "name": "stdout",
          "text": [
            "1 + 2 =  3\n",
            "2 - 1 =  1\n",
            "2 * 5 =  10\n",
            "6 / 2 =  3.0\n",
            "7 // 2 =  3.0\n",
            "2 ** 3 =  8\n",
            "16 % 3 =  1\n",
            "(1 + 3) * (4 + 5) =  36\n",
            "1 + 3 * 4 + 5 =  18\n"
          ]
        }
      ]
    },
    {
      "cell_type": "code",
      "source": [
        "# practice using at least three of the operators above\n",
        "# If interested, find use a math formula and try it out in our Python\n",
        "\n",
        "\n",
        "print((1 + 3) * (4 + 5))\n",
        "print(1 + 3 * 4 + 5)\n",
        "\n",
        "fahrenheit = 78\n",
        "\n",
        "to_centegrade = 5/9*(fahrenheit-32)\n",
        "print(to_centegrade)"
      ],
      "metadata": {
        "id": "7OH30fv2PX74",
        "colab": {
          "base_uri": "https://localhost:8080/"
        },
        "outputId": "29132d6b-e23f-4d2c-9e27-cd4bb883a6a4"
      },
      "execution_count": null,
      "outputs": [
        {
          "output_type": "stream",
          "name": "stdout",
          "text": [
            "36\n",
            "18\n",
            "25.555555555555557\n"
          ]
        }
      ]
    },
    {
      "cell_type": "code",
      "source": [
        " 5/9*(78-32)"
      ],
      "metadata": {
        "colab": {
          "base_uri": "https://localhost:8080/"
        },
        "id": "Ktvqi1m16iFQ",
        "outputId": "607efd54-0178-4ff9-db83-99ae5e247c10"
      },
      "execution_count": null,
      "outputs": [
        {
          "output_type": "execute_result",
          "data": {
            "text/plain": [
              "25.555555555555557"
            ]
          },
          "metadata": {},
          "execution_count": 20
        }
      ]
    },
    {
      "cell_type": "markdown",
      "metadata": {
        "nbpresent": {
          "id": "3540760a-1b13-4ba8-ae5e-a1f74d2665fe"
        },
        "id": "f_CS92bQD6RL"
      },
      "source": [
        "## String Operators\n",
        "\n",
        "+ **+** - Addition : 'ban' + 'ana' = 'banana'\n",
        "+ **\\*** - Multiplacation : 'ba' * 5 = 'bababababa'\n",
        "+ **[x:y:z]** - Slicing : 'banana'[0:2] = 'ba'\n"
      ]
    },
    {
      "cell_type": "code",
      "metadata": {
        "nbpresent": {
          "id": "98c1d132-d48e-46b0-a34d-8ca0c9f92ae7"
        },
        "id": "ln4ksTaaD6RM",
        "colab": {
          "base_uri": "https://localhost:8080/"
        },
        "outputId": "3cc72de7-fbfa-4ea2-b534-053f2a96fdd2"
      },
      "source": [
        "# print the above using Python\n",
        "# note the use of double and single quotes\n",
        "\n",
        "print(\"ban\" + \"ana\")\n",
        "\n",
        "print (\"Ba\" * 5)\n",
        "# example of index\n",
        "# this will useful for lists\n",
        "\n",
        "\n",
        "fruit = \"Banana\"\n",
        "print(fruit[0:2])\n"
      ],
      "execution_count": null,
      "outputs": [
        {
          "output_type": "stream",
          "name": "stdout",
          "text": [
            "banana\n",
            "BaBaBaBaBa\n",
            "Ba\n"
          ]
        }
      ]
    },
    {
      "cell_type": "markdown",
      "metadata": {
        "nbpresent": {
          "id": "c800418f-6861-450b-a582-1531570e5fd1"
        },
        "id": "7QL0WK_UD6RP"
      },
      "source": [
        "###### String Operations\n",
        "\n",
        "Everything in Python is an Object\n",
        "\n",
        "+ Objects generally have attributes and methods.\n",
        "+ Methods are just operations that can be applied to the object\n",
        "+ These methods which are accessed using a '.' character\n",
        "\n",
        "The following code demonstrates a couple of string operators"
      ]
    },
    {
      "cell_type": "code",
      "source": [
        "# my location\n",
        "\n",
        "my_location = \"Lied Library\"\n",
        "\n",
        "\n"
      ],
      "metadata": {
        "id": "TR21u0s-gtpr"
      },
      "execution_count": null,
      "outputs": []
    },
    {
      "cell_type": "code",
      "source": [
        "# type\n",
        "\n",
        "\n",
        "type(my_location)"
      ],
      "metadata": {
        "id": "P9CAE4ZCgv-D",
        "colab": {
          "base_uri": "https://localhost:8080/"
        },
        "outputId": "1aebce2f-c3bf-42aa-ee65-3cbdd5ab188b"
      },
      "execution_count": null,
      "outputs": [
        {
          "output_type": "execute_result",
          "data": {
            "text/plain": [
              "str"
            ]
          },
          "metadata": {},
          "execution_count": 25
        }
      ]
    },
    {
      "cell_type": "code",
      "source": [
        "# upper case\n",
        "\n",
        "my_location = my_location.upper()\n",
        "print(my_location)"
      ],
      "metadata": {
        "id": "crIHkcUtgyXP",
        "colab": {
          "base_uri": "https://localhost:8080/"
        },
        "outputId": "f7db1efb-2003-44c9-9334-174cfdc886cf"
      },
      "execution_count": null,
      "outputs": [
        {
          "output_type": "stream",
          "name": "stdout",
          "text": [
            "LIED LIBRARY\n"
          ]
        }
      ]
    },
    {
      "cell_type": "code",
      "source": [
        "# is it uppper?\n",
        "\n",
        "my_location.isupper()\n"
      ],
      "metadata": {
        "id": "6AxzochZg2KM",
        "colab": {
          "base_uri": "https://localhost:8080/"
        },
        "outputId": "278f2ade-205b-4003-d521-e9adf6f9975c"
      },
      "execution_count": null,
      "outputs": [
        {
          "output_type": "execute_result",
          "data": {
            "text/plain": [
              "True"
            ]
          },
          "metadata": {},
          "execution_count": 28
        }
      ]
    },
    {
      "cell_type": "code",
      "metadata": {
        "nbpresent": {
          "id": "712cf592-a000-4776-bb15-29e811504e9f"
        },
        "id": "-eMlR1PMD6RQ",
        "colab": {
          "base_uri": "https://localhost:8080/"
        },
        "outputId": "4b7da492-b49a-4375-957d-d49f3248ee17"
      },
      "source": [
        "print(\"'Banana'.upper() = \", 'Banana'.upper())\n",
        "print(\"'banana'.isupper() = \", 'banana'.isupper())\n",
        "print(\"'BANANA'.isupper() = \", 'BANANA'.isupper())\n",
        "print(\"'124'.isdigit() = \", '12345'.isdigit()) # note that this is a string\n",
        "print(\"'Banana'.swapcase() = \", 'Banana'.swapcase())\n",
        "\n",
        "\n",
        "\n"
      ],
      "execution_count": null,
      "outputs": [
        {
          "output_type": "stream",
          "name": "stdout",
          "text": [
            "'Banana'.upper() =  BANANA\n",
            "'banana'.isupper() =  False\n",
            "'BANANA'.isupper() =  True\n",
            "'124'.isdigit() =  True\n",
            "'Banana'.swapcase() =  bANANA\n"
          ]
        }
      ]
    },
    {
      "cell_type": "markdown",
      "metadata": {
        "nbpresent": {
          "id": "1d2b2588-bdd4-4a28-bdd9-e0ff691c9483"
        },
        "id": "FftIsvJ8D6RS"
      },
      "source": [
        "Python Documentation on methods - explain documentation - how to read help"
      ]
    },
    {
      "cell_type": "code",
      "metadata": {
        "nbpresent": {
          "id": "d7f2f798-3f48-4334-9012-0a65376386ae"
        },
        "id": "v9bPMNu4D6RT",
        "colab": {
          "base_uri": "https://localhost:8080/"
        },
        "outputId": "aff75696-6c9a-43a5-998a-ce7ad0ac5659"
      },
      "source": [
        "# using help on method\n",
        "\n",
        "help(str.upper)"
      ],
      "execution_count": null,
      "outputs": [
        {
          "output_type": "stream",
          "name": "stdout",
          "text": [
            "Help on method_descriptor:\n",
            "\n",
            "upper(self, /) unbound builtins.str method\n",
            "    Return a copy of the string converted to uppercase.\n",
            "\n"
          ]
        }
      ]
    },
    {
      "cell_type": "code",
      "source": [
        "# help on a built in function\n",
        "\n",
        "help(print)\n",
        "help(\"math\")\n"
      ],
      "metadata": {
        "id": "5A61Ut7xkqDd"
      },
      "execution_count": null,
      "outputs": []
    },
    {
      "cell_type": "code",
      "source": [
        "# f-string to format (introduced with Python 3.6)\n",
        "\n",
        "name = \"Genevieve\"\n",
        "\n",
        "f\"{(name)} is pretty funny\"\n"
      ],
      "metadata": {
        "id": "ob2ScKvGrmkb",
        "colab": {
          "base_uri": "https://localhost:8080/",
          "height": 35
        },
        "outputId": "a7b7b99c-846a-4f3d-e54e-76c594f04600"
      },
      "execution_count": null,
      "outputs": [
        {
          "output_type": "execute_result",
          "data": {
            "text/plain": [
              "'Genevieve is pretty funny'"
            ],
            "application/vnd.google.colaboratory.intrinsic+json": {
              "type": "string"
            }
          },
          "metadata": {},
          "execution_count": 34
        }
      ]
    },
    {
      "cell_type": "code",
      "source": [
        "# more f-string formating\n",
        "\n",
        "\n"
      ],
      "metadata": {
        "id": "6hL_JJBUskCe"
      },
      "execution_count": null,
      "outputs": []
    },
    {
      "cell_type": "markdown",
      "source": [
        "More on F-strings:\n",
        "\n",
        "https://realpython.com/python-f-strings/ </br>\n",
        "https://docs.python.org/3/tutorial/inputoutput.html"
      ],
      "metadata": {
        "id": "Kq55ychDs9jV"
      }
    },
    {
      "cell_type": "markdown",
      "metadata": {
        "id": "7iOmGa6rD6RW"
      },
      "source": [
        "Different object types (int, string, boolean, ...) will have its own set of methods which can be applied to it. These can be seen using the dir(object) command.\n"
      ]
    },
    {
      "cell_type": "code",
      "source": [
        "# using dir\n",
        "\n",
        "dir(\"\")\n"
      ],
      "metadata": {
        "id": "1OjoEi-No9LL"
      },
      "execution_count": null,
      "outputs": []
    },
    {
      "cell_type": "code",
      "source": [
        "# using dir\n",
        "dir(str)"
      ],
      "metadata": {
        "id": "SfJgyqS0R4PC"
      },
      "execution_count": null,
      "outputs": []
    },
    {
      "cell_type": "code",
      "metadata": {
        "id": "d44qZ6psD6RW"
      },
      "source": [
        "# using ?\n",
        "\n",
        "?str.upper"
      ],
      "execution_count": null,
      "outputs": []
    },
    {
      "cell_type": "markdown",
      "source": [
        "# Logical Operations and Booleans"
      ],
      "metadata": {
        "id": "8tg8BZUVXBU5"
      }
    },
    {
      "cell_type": "markdown",
      "metadata": {
        "id": "DscfIVH-D6R6"
      },
      "source": [
        "There are three logical operators **_and_**, **_or_** and **_not_**.\n",
        "\n",
        "<br>\n",
        "\n",
        "**and** Operator\n",
        "\n",
        "|x|y|x and y|\n",
        "|---|---|---|\n",
        "|False|False|False|\n",
        "|False|True|False|\n",
        "|True|False|False|\n",
        "|True|True|True|\n",
        "\n",
        "<br>\n",
        "\n",
        "**or** Operator\n",
        "\n",
        "|x|y|x or y|\n",
        "|---|---|---|\n",
        "|False|False|False|\n",
        "|False|True|True|\n",
        "|True|False|True|\n",
        "|True|True|True|\n",
        "\n",
        "<br>\n",
        "\n",
        "**not** Operator\n",
        "\n",
        "|x|not x|\n",
        "|---|---|\n",
        "|False|True|\n",
        "|True|False|"
      ]
    },
    {
      "cell_type": "markdown",
      "metadata": {
        "nbpresent": {
          "id": "4068ad08-f15b-4151-b90b-1f3ece860aa0"
        },
        "id": "5VXQyqX0D6R6"
      },
      "source": [
        "#### Example\n",
        "\n",
        "The following code evaluates 2 boolean expressions\n",
        "\n",
        "+ whether the number is even (no remainder)\n",
        "+ modulo returns the remainder when dividing by some number\n",
        " + n%2 == 0\n",
        "+ whether the number is positive\n",
        " + n > 0\n",
        "\n",
        "Using the 2 boolean expressions 2 logical expressions are evaluated\n",
        "\n",
        "+ whether the number is even and positive\n",
        " + n%2 == 0 **and** n > 0\n",
        "+ whether the number is even **or** positive\n",
        " + n%2 == 0 or n > 0"
      ]
    },
    {
      "cell_type": "code",
      "source": [
        "# Let's try this in Python using the number 5\n",
        "\n",
        "\n",
        "num = 5\n",
        "\n",
        "print(num%2 == 0)\n",
        "print(num > 0)\n",
        "\n",
        "print (num%2 == 0 and num > 0)\n",
        "print (num%2 == 0 or num > 0)\n",
        "\n",
        "\n",
        "\n"
      ],
      "metadata": {
        "id": "wMu4L0ZpQ28_",
        "colab": {
          "base_uri": "https://localhost:8080/"
        },
        "outputId": "bab6e682-3d22-42e0-b8e6-1aefb6d1da0c"
      },
      "execution_count": null,
      "outputs": [
        {
          "output_type": "stream",
          "name": "stdout",
          "text": [
            "False\n",
            "True\n",
            "False\n",
            "True\n"
          ]
        }
      ]
    },
    {
      "cell_type": "code",
      "metadata": {
        "nbpresent": {
          "id": "e3df99d2-b145-4907-ab95-27633b2e80df"
        },
        "id": "jyTH4cEqD6R7",
        "colab": {
          "base_uri": "https://localhost:8080/"
        },
        "outputId": "d3a8f74c-d7d0-4206-d2a7-a54fe60cf6fc"
      },
      "source": [
        "# fancy print statement using strings and tabs\n",
        "\n",
        "\n",
        "num = 5\n",
        "\n",
        "print ('positive_even :', num)\n",
        "print ('\\tBoolean Expressions')\n",
        "print ('\\t\\t', num, '% 2 == 0 \\t\\t\\t:', num%2 == 0)\n",
        "print ('\\t\\t', num, '> 0 \\t\\t\\t\\t:', num > 0)\n",
        "print ('\\tLogical Expressions')\n",
        "print ('\\t\\t', num, '% 2 == 0 and',num,'> 0 \\t\\t:', num%2 == 0 and num > 0)\n",
        "print ('\\t\\t', num, '% 2 == 0 or',num,'> 0 \\t\\t:', num%2 == 0 or num > 0)"
      ],
      "execution_count": null,
      "outputs": [
        {
          "output_type": "stream",
          "name": "stdout",
          "text": [
            "positive_even : 5\n",
            "\tBoolean Expressions\n",
            "\t\t 5 % 2 == 0 \t\t\t: False\n",
            "\t\t 5 > 0 \t\t\t\t: True\n",
            "\tLogical Expressions\n",
            "\t\t 5 % 2 == 0 and 5 > 0 \t\t: False\n",
            "\t\t 5 % 2 == 0 or 5 > 0 \t\t: True\n"
          ]
        }
      ]
    },
    {
      "cell_type": "markdown",
      "source": [
        "Check out all the Python Operators: https://www.programiz.com/python-programming/operators\n",
        "\n",
        "**These will come into play for conditional statements, but worth mentioning now**"
      ],
      "metadata": {
        "id": "kOWmJ8q9XxQJ"
      }
    },
    {
      "cell_type": "markdown",
      "source": [
        "# Storing Data in Variables\n",
        "A variable is assigned a *value*. Once assigned, the variable holds the information associated with that value.\n",
        "Variables are important in programming languages. In Python, the convention is to use descriptive variables to help make clear what you are trying to do in your code. Using clear variables can help you maintain your code and can help others read and understand your code.\n",
        "\n",
        "In Python, we can assign a value to a variable, using the equals sign ```=```."
      ],
      "metadata": {
        "id": "aYjTBWA5VA6h"
      }
    },
    {
      "cell_type": "code",
      "source": [
        "# define a variable\n",
        "\n",
        "diabetes_test = \"A1C Test\""
      ],
      "metadata": {
        "id": "22wuiKHmVOq1"
      },
      "execution_count": null,
      "outputs": []
    },
    {
      "cell_type": "markdown",
      "source": [
        "You can think about it as:\n",
        "> \"The variable 'diabetes_tests' *gets* the value \"'A1C test\""
      ],
      "metadata": {
        "id": "h5VSg1ISVVJq"
      }
    },
    {
      "cell_type": "markdown",
      "source": [
        "## Example\n",
        "If we wanted to track the weight of a patient who weighs 60 kilograms, we could by assigning the value 60 to a variable weight_kg:"
      ],
      "metadata": {
        "id": "tbqtSwkBVfLS"
      }
    },
    {
      "cell_type": "code",
      "source": [
        "# weight in kg\n",
        "\n",
        "weight_kg = 60"
      ],
      "metadata": {
        "id": "v2bIVAweVP3S"
      },
      "execution_count": null,
      "outputs": []
    },
    {
      "cell_type": "code",
      "source": [
        "# patient ID\n",
        "\n",
        "patient_id = \"001\"\n"
      ],
      "metadata": {
        "id": "BMndtR1kVSsM"
      },
      "execution_count": null,
      "outputs": []
    },
    {
      "cell_type": "code",
      "source": [
        "# convert kg to lbs.\n",
        "\n",
        "weight_lb = 2.2 * weight_kg\n",
        "weight_lb"
      ],
      "metadata": {
        "id": "2c5igsFVVlFh",
        "colab": {
          "base_uri": "https://localhost:8080/"
        },
        "outputId": "023f4db6-422a-43e9-f360-ef8ab4a56cb0"
      },
      "execution_count": null,
      "outputs": [
        {
          "output_type": "execute_result",
          "data": {
            "text/plain": [
              "132.0"
            ]
          },
          "metadata": {},
          "execution_count": 3
        }
      ]
    },
    {
      "cell_type": "code",
      "source": [
        "# add string to print statement\n",
        "\n",
        "print(weight_lb, \"lbs.\")"
      ],
      "metadata": {
        "id": "CDIRI_G2VnLz",
        "colab": {
          "base_uri": "https://localhost:8080/"
        },
        "outputId": "54dd1c43-89cd-4055-b6f3-66af2a1dc636"
      },
      "execution_count": null,
      "outputs": [
        {
          "output_type": "stream",
          "name": "stdout",
          "text": [
            "132.0 lbs.\n"
          ]
        }
      ]
    },
    {
      "cell_type": "code",
      "source": [
        "# concatinate with patient id with \"infam_\"\n",
        "\n",
        "patient_id = \"inflam_\" + patient_id\n",
        "patient_id"
      ],
      "metadata": {
        "id": "3yaNwfawVpU9",
        "colab": {
          "base_uri": "https://localhost:8080/",
          "height": 35
        },
        "outputId": "b51cda4f-b16b-45dc-898e-426184df1830"
      },
      "execution_count": null,
      "outputs": [
        {
          "output_type": "execute_result",
          "data": {
            "text/plain": [
              "'inflam_001'"
            ],
            "application/vnd.google.colaboratory.intrinsic+json": {
              "type": "string"
            }
          },
          "metadata": {},
          "execution_count": 5
        }
      ]
    },
    {
      "cell_type": "markdown",
      "source": [
        "The value assigned to a variable will remain the same until you alter it. The value can be changed or reassigned within the program."
      ],
      "metadata": {
        "id": "qK9MQT3fVrpC"
      }
    },
    {
      "cell_type": "code",
      "source": [
        "# variables will hold the value you assign, but you can update that value if needed\n",
        "\n",
        "result = 35\n",
        "\n",
        "result = result + 10\n",
        "print(result)\n",
        "result += 10\n",
        "#print(result)\n",
        "result"
      ],
      "metadata": {
        "id": "QR_HAly-VvPU",
        "colab": {
          "base_uri": "https://localhost:8080/"
        },
        "outputId": "77ca48b5-270b-4393-f9c9-b4c0b9e36dae"
      },
      "execution_count": null,
      "outputs": [
        {
          "output_type": "stream",
          "name": "stdout",
          "text": [
            "45\n"
          ]
        },
        {
          "output_type": "execute_result",
          "data": {
            "text/plain": [
              "55"
            ]
          },
          "metadata": {},
          "execution_count": 6
        }
      ]
    },
    {
      "cell_type": "code",
      "source": [
        "# you can reuse variable - but reuse with caution!\n",
        "\n",
        "result = 2\n",
        "result\n",
        "\n"
      ],
      "metadata": {
        "id": "FZARkXRVV5ve",
        "colab": {
          "base_uri": "https://localhost:8080/"
        },
        "outputId": "c4c79868-330c-40f9-a522-081f18452d6c"
      },
      "execution_count": null,
      "outputs": [
        {
          "output_type": "execute_result",
          "data": {
            "text/plain": [
              "2"
            ]
          },
          "metadata": {},
          "execution_count": 7
        }
      ]
    },
    {
      "cell_type": "markdown",
      "source": [
        "Why can we do this? Because Python interprets one line at a time! Be careful, once a variable has been changed, it will hold that new value. When in doubt, don't re-use variable names unless you are absolutely sure that you don't need the old value any longer.\n",
        "Rules for naming variables\n",
        "\n",
        "- can only contain letters, numbers, and underscores\n",
        "- can start with an underscore, but not a number\n",
        "- no spaces, but an underscore can be used to separate words or you can use CamelCase\n",
        "- cannot use the names of Python built-in functions or keywords\n",
        "- should be short, but descriptive (glucose_level is better than gl or g_l)\n",
        "- be consistent. If you start with CamelCase or snake_case, try to use it throughout\n"
      ],
      "metadata": {
        "id": "gLifHWZVWBLz"
      }
    },
    {
      "cell_type": "markdown",
      "source": [
        "# Examples of acceptable variable names\n",
        "\n",
        "Patient_numbers <br/>\n",
        "_supply_list <br/>\n",
        "experiment_001_lab <br/>\n",
        "glucose_level <br/>\n",
        "\n",
        "# Less helpful variable names\n",
        "\n",
        "t_1 = <br/>\n",
        "gl = <br/>\n",
        "_hom_grad = <br/>\n",
        "inventlist = <br/>\n",
        "wksps = <br/>"
      ],
      "metadata": {
        "id": "ELGxPNa0WFmv"
      }
    },
    {
      "cell_type": "markdown",
      "source": [
        "## Reserved Words\n",
        "\n",
        "These are words that are used by python and cannot be used as variable names\n",
        "\n",
        "|Reserved Words|||||\n",
        "|---|---|---|---|---|\n",
        "|and|del|from|not|while|\n",
        "|as|elif|global|or|with|\n",
        "|assert|else|if|pass|yield|\n",
        "|break|except|import|print|class|\n",
        "|exec|in|raise|continue|finally|\n",
        "|is|return|def|for|lambda|\n",
        "|try|\n",
        "\n",
        "This will cause an error\n",
        "\n",
        "```python\n",
        "lambda = 5\n",
        "```"
      ],
      "metadata": {
        "id": "UtpyoLROWZNR"
      }
    },
    {
      "cell_type": "code",
      "source": [
        "lambda = 5"
      ],
      "metadata": {
        "id": "e6MgcsClWAdL",
        "colab": {
          "base_uri": "https://localhost:8080/",
          "height": 106
        },
        "outputId": "1b79a0d0-89c9-4c5a-e085-f6d8915e1cdc"
      },
      "execution_count": null,
      "outputs": [
        {
          "output_type": "error",
          "ename": "SyntaxError",
          "evalue": "invalid syntax (ipython-input-1238014004.py, line 1)",
          "traceback": [
            "\u001b[0;36m  File \u001b[0;32m\"/tmp/ipython-input-1238014004.py\"\u001b[0;36m, line \u001b[0;32m1\u001b[0m\n\u001b[0;31m    lambda = 5\u001b[0m\n\u001b[0m           ^\u001b[0m\n\u001b[0;31mSyntaxError\u001b[0m\u001b[0;31m:\u001b[0m invalid syntax\n"
          ]
        }
      ]
    },
    {
      "cell_type": "markdown",
      "source": [
        "# Exercise"
      ],
      "metadata": {
        "id": "DnDJUU5EWl8V"
      }
    },
    {
      "cell_type": "code",
      "source": [
        "# Create a few helpful variable names relevent to your work\n",
        "# Assign them numeric values or text values\n",
        "# Do a simple calculation and/or concatenate with strings\n",
        "# Check the data type for each variable\n",
        "\n",
        "\n",
        "\n",
        "workshop_1 = 22\n",
        "workshop_2 = 38\n",
        "\n",
        "workshop_totals = workshop_1 + workshop_2\n",
        "print(workshop_totals)\n",
        "\n",
        "\n"
      ],
      "metadata": {
        "id": "CGrgi7dAWjvM",
        "colab": {
          "base_uri": "https://localhost:8080/"
        },
        "outputId": "cbe4f8ae-e04e-4894-94cd-d771c99c6263"
      },
      "execution_count": null,
      "outputs": [
        {
          "output_type": "stream",
          "name": "stdout",
          "text": [
            "60\n"
          ]
        }
      ]
    },
    {
      "cell_type": "markdown",
      "source": [
        "# Lists\n",
        "Lists are mutable ordered containers of other objects, meaning they can be modified and elements can be added and taken away. The elements in the list maintain their order (until modified). In Python, square brackets ([]) indicate a list, and individual elements are seperated by a comma."
      ],
      "metadata": {
        "id": "nxwSty5w-O35"
      }
    },
    {
      "cell_type": "code",
      "source": [
        "# print length of list\n",
        "\n",
        "\n",
        "diabetes_tests = [\"Fasting plasma glucose test\", \"A1 C Test\", \"Random Plasma\"]\n",
        "diabetes_tests"
      ],
      "metadata": {
        "id": "TPEojmYi-cf5",
        "colab": {
          "base_uri": "https://localhost:8080/"
        },
        "outputId": "6242cf13-5966-45a2-c281-2c4b401ebe68"
      },
      "execution_count": null,
      "outputs": [
        {
          "output_type": "execute_result",
          "data": {
            "text/plain": [
              "['Fasting plasma glucose test', 'A1 C Test', 'Random Plasma']"
            ]
          },
          "metadata": {},
          "execution_count": 64
        }
      ]
    },
    {
      "cell_type": "markdown",
      "source": [
        "+ lists stores sequence of objects. For ex.\n",
        "    ```python\n",
        "    [1, 2, 3, 4, 5]\n",
        "    ```\n",
        "+ Elements in a list have position and order\n",
        "\n",
        "|Index |0|1|2|3|4|\n",
        "|------|-|-|-|-|-|\n",
        "|List Values |1|2|3|4|5|\n",
        "\n",
        "+ More items in a list can be of **any type**, including **mixed**.  \n",
        "    ```python\n",
        "    [1, 2, 'a', [3, 4]]\n",
        "    ```\n",
        "   \n",
        "   \n",
        "|Index |0|1|2|3|\n",
        "|------|-|-|-|-|\n",
        "|List Values |1|2|'a'|[3, 4]|\n",
        "|Data Type |Int|Int|Str|List|\n",
        "\n"
      ],
      "metadata": {
        "id": "pKCb1seK-2fR"
      }
    },
    {
      "cell_type": "code",
      "source": [
        "print(len(diabetes_tests))\n",
        "\n",
        "# Note: Python indexes start at 0, not 1\n",
        "\n",
        "print(diabetes_tests[0:2])\n",
        "\n",
        "#Selecting a range\n",
        "#Note: \"2\" indicates \"to, but not including\"\n",
        "\n",
        "\n",
        "#Selecting the last value\n",
        "\n"
      ],
      "metadata": {
        "id": "JMEynbOQ-1uT",
        "colab": {
          "base_uri": "https://localhost:8080/"
        },
        "outputId": "b02873c8-5cab-4e3c-95b6-756520482ed3"
      },
      "execution_count": null,
      "outputs": [
        {
          "output_type": "stream",
          "name": "stdout",
          "text": [
            "3\n",
            "['Fasting plasma glucose test', 'A1 C Test']\n"
          ]
        }
      ]
    },
    {
      "cell_type": "markdown",
      "source": [
        "List.index() let's you find where in a string an element is"
      ],
      "metadata": {
        "id": "eApd732jASwq"
      }
    },
    {
      "cell_type": "code",
      "source": [
        "# create a new list and find \"laura\"\n",
        "\n"
      ],
      "metadata": {
        "id": "zkC5-ns6ASGY"
      },
      "execution_count": null,
      "outputs": []
    },
    {
      "cell_type": "code",
      "source": [
        "# checking the index based on a value\n",
        "\n",
        "\n"
      ],
      "metadata": {
        "id": "kBhXAgYRhkV-"
      },
      "execution_count": null,
      "outputs": []
    },
    {
      "cell_type": "code",
      "source": [
        "# will a for loop using index work?\n",
        "\n",
        "\n",
        "\n",
        "\n"
      ],
      "metadata": {
        "id": "m3tyuaR6hoY0"
      },
      "execution_count": null,
      "outputs": []
    },
    {
      "cell_type": "code",
      "source": [
        "# we have to use for i in range - range is a function that generates a sequence of numbers.\n",
        "\n",
        "\n"
      ],
      "metadata": {
        "id": "vIxkRD2viFx0"
      },
      "execution_count": null,
      "outputs": []
    },
    {
      "cell_type": "markdown",
      "source": [
        "## Modifying a list"
      ],
      "metadata": {
        "id": "6kh_NtsBEYM2"
      }
    },
    {
      "cell_type": "markdown",
      "metadata": {
        "id": "_lcPqadmmVcY"
      },
      "source": [
        "### Add to a list\n"
      ]
    },
    {
      "cell_type": "code",
      "source": [
        "diabetes_tests = [\"Fasting plasma glucose (FPG) test\", \"A1C test\", \"Random plasma glucos (RPG) test\"]"
      ],
      "metadata": {
        "id": "pehxT31p2QXT"
      },
      "execution_count": null,
      "outputs": []
    },
    {
      "cell_type": "code",
      "execution_count": null,
      "metadata": {
        "scrolled": true,
        "id": "lNF3ks9PmVcY"
      },
      "outputs": [],
      "source": [
        "# Adding using \"plus\" and string\n",
        "\n"
      ]
    },
    {
      "cell_type": "code",
      "execution_count": null,
      "metadata": {
        "id": "Nh_eesZ9mVcY"
      },
      "outputs": [],
      "source": [
        "#Adding using the append method\n",
        "\n"
      ]
    },
    {
      "cell_type": "code",
      "execution_count": null,
      "metadata": {
        "id": "G8B_sK5fmVcZ"
      },
      "outputs": [],
      "source": [
        "# Insert at a specific position\n",
        "\n"
      ]
    },
    {
      "cell_type": "code",
      "source": [
        "# adding lists together\n",
        "\n"
      ],
      "metadata": {
        "id": "0rPvaYnmKHIR"
      },
      "execution_count": null,
      "outputs": []
    },
    {
      "cell_type": "code",
      "source": [
        "# using extend\n",
        "# parenthases, then square brackets\n",
        "\n",
        "\n",
        "\n",
        "\n"
      ],
      "metadata": {
        "id": "HexSBwDfWkxs"
      },
      "execution_count": null,
      "outputs": []
    },
    {
      "cell_type": "markdown",
      "metadata": {
        "id": "P-4oekUjmVcZ"
      },
      "source": [
        "## Remove item by index"
      ]
    },
    {
      "cell_type": "code",
      "execution_count": null,
      "metadata": {
        "id": "LtY0sLYxmVca"
      },
      "outputs": [],
      "source": [
        "# Remove using the pop method\n",
        "# removes by index\n",
        "\n",
        "\n"
      ]
    },
    {
      "cell_type": "code",
      "execution_count": null,
      "metadata": {
        "id": "mlzGlnTJmVca"
      },
      "outputs": [],
      "source": [
        "# Remove by value\n",
        "# Note: this only removes the first value; to remote all values you will need to use a loop\n",
        "\n",
        "\n",
        "\n"
      ]
    },
    {
      "cell_type": "markdown",
      "source": [
        "### Testing if something is in a list"
      ],
      "metadata": {
        "id": "zji4-h8GERP6"
      }
    },
    {
      "cell_type": "code",
      "source": [
        "help(list)"
      ],
      "metadata": {
        "id": "_4MBmy5__s3y"
      },
      "execution_count": null,
      "outputs": []
    },
    {
      "cell_type": "code",
      "source": [
        "# using an \"in\" statement\n",
        "\n"
      ],
      "metadata": {
        "id": "w7x_FxvWYHHz"
      },
      "execution_count": null,
      "outputs": []
    },
    {
      "cell_type": "code",
      "source": [
        "# This is a conditional! More on that to come :-)\n",
        "\n",
        "\n",
        "\n"
      ],
      "metadata": {
        "id": "qa1mwsKk_jvC"
      },
      "execution_count": null,
      "outputs": []
    },
    {
      "cell_type": "markdown",
      "source": [
        "### Exercise"
      ],
      "metadata": {
        "id": "sAZT0ybDWVky"
      }
    },
    {
      "cell_type": "code",
      "source": [
        "# Create a list of objects (e.g., names, values, equipment, etc.)\n",
        "# Use insert()to add somthing to the beginning of your list\n",
        "# Use insert()to add somthing to the middle of your list\n",
        "# Use append to add something to the end of your list\n",
        "# Use extend to add two more items to the list\n",
        "# use pop() to remove an item\n",
        "# write a simple if statement to either find the index or an item or to check if something is in the list\n",
        "\n",
        "\n",
        "\n",
        "\n",
        "\n",
        "\n",
        "\n",
        "\n",
        "\n"
      ],
      "metadata": {
        "id": "9ldw24J6FJ13"
      },
      "execution_count": null,
      "outputs": []
    },
    {
      "cell_type": "markdown",
      "source": [],
      "metadata": {
        "id": "ldIsyX51FJNG"
      }
    },
    {
      "cell_type": "markdown",
      "source": [
        "# Next Class!\n",
        "\n",
        "\n",
        "* Dictionaries\n",
        "* Conditionals\n",
        "* For Loops\n",
        "* Functions"
      ],
      "metadata": {
        "id": "XpqjFRePY2y0"
      }
    }
  ]
}